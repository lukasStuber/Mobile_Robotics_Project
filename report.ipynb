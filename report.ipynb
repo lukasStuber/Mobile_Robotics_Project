{
 "cells": [
  {
   "attachments": {},
   "cell_type": "markdown",
   "metadata": {},
   "source": [
    "# Mobile Robotics Project - Final Report\n",
    "\n",
    "Group Members:\n",
    "- ESCOYEZ, Antoine Jacques Richard, 335564\n",
    "- POUSSIN, Jean-Baptiste Marie Alexandre, 303127\n",
    "- KOCKISCH, Matthias Hugues Jörg, 303000\n",
    "- STUBER, Lukas, 289304\n",
    "\n",
    "Professor:\n",
    "\n",
    "Prof. MONDADA, Francesco\n",
    "\n",
    "\n",
    "EPFL, 11.12.2022\n",
    "Course MICRO-452 Basics of Mobile Robotics"
   ]
  },
  {
   "attachments": {},
   "cell_type": "markdown",
   "metadata": {},
   "source": [
    "# Project Description\n",
    "The goal of the project in the Basics of Mobile Robotics class was the control of a Thymio robot, a two wheeled robot. The environment of the robot is a map designed by the group members. On the map there need to be obstacles into which the robot cannot/must not drive. According to the chosen map and the obstacles present on the map a global path from the start to the goal needs to be calculated using computer vision (via a camera ?????). The start is the initial location of the Thymio, the goal can be chosen by the user. On its path to the goal the robot needs to be able to detect and avoid unforeseen obstacles, that are added by the user. For better tracking of the path some kind of filtering must be used that improves the state estimation of the robot. The camera image serves as measurement for the filter."
   ]
  },
  {
   "attachments": {},
   "cell_type": "markdown",
   "metadata": {},
   "source": [
    "# Detailed Description of our Choices\n",
    "Our group chose the map to be a parking space with two rows of parking lots. The yellow lines marking the edges of the parking lots are the fixed obstacles used in the global path planning. The robot is neighter allowed to cross the yellow lines nor leave the map. The camera is fixed above the map and oversees the entire situation (robot, lines, free spaces, occupied spaces). The goal is a free parking lot indicated by a red paper square. The unknown obstacles (unknown to/ignored by the computer vision) are ?????. The estimated state correction is done with the help of a Kalman filter whose measurement is the location of the Thymio in the camera images.\n",
    "\n",
    "<font color='red'>Please replace the image with the new map</font>\n",
    "\n",
    "<img src=\"Map.jpeg\" width=\"300\">"
   ]
  },
  {
   "cell_type": "markdown",
   "metadata": {},
   "source": []
  }
 ],
 "metadata": {
  "kernelspec": {
   "display_name": "Python 3",
   "language": "python",
   "name": "python3"
  },
  "language_info": {
   "name": "python",
   "version": "3.10.9 (tags/v3.10.9:1dd9be6, Dec  6 2022, 20:01:21) [MSC v.1934 64 bit (AMD64)]"
  },
  "orig_nbformat": 4,
  "vscode": {
   "interpreter": {
    "hash": "8540791a84c9dd273039c82e4c4906b2f22bd80b7ff15c37ffcc5926b6e4ab9b"
   }
  }
 },
 "nbformat": 4,
 "nbformat_minor": 2
}
